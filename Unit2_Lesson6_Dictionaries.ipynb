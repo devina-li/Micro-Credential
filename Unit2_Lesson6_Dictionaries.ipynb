{
  "nbformat": 4,
  "nbformat_minor": 0,
  "metadata": {
    "colab": {
      "name": "Unit2_Lesson6_Dictionaries",
      "provenance": [],
      "collapsed_sections": [],
      "authorship_tag": "ABX9TyMKGUzGCAlEwr/Wrd+BRKp3",
      "include_colab_link": true
    },
    "kernelspec": {
      "name": "python3",
      "display_name": "Python 3"
    }
  },
  "cells": [
    {
      "cell_type": "markdown",
      "metadata": {
        "id": "view-in-github",
        "colab_type": "text"
      },
      "source": [
        "<a href=\"https://colab.research.google.com/github/devina-li/Unit_2_Python/blob/main/Unit2_Lesson6_Dictionaries.ipynb\" target=\"_parent\"><img src=\"https://colab.research.google.com/assets/colab-badge.svg\" alt=\"Open In Colab\"/></a>"
      ]
    },
    {
      "cell_type": "code",
      "metadata": {
        "id": "Zhvnm1BQA6tY"
      },
      "source": [
        "interviewee = {'first_name': 'Olivia', 'last_name': 'Kim'}"
      ],
      "execution_count": null,
      "outputs": []
    },
    {
      "cell_type": "code",
      "metadata": {
        "colab": {
          "base_uri": "https://localhost:8080/"
        },
        "id": "-NpcaBG2Bhy4",
        "outputId": "e21bd010-2e89-4b8c-9bf2-b8b381a59f2f"
      },
      "source": [
        "interviewee = {'first_name': 'Olivia', 'last_name': 'Kim'}\n",
        "print(interviewee['first_name'])\n",
        "print(interviewee['last_name'])"
      ],
      "execution_count": null,
      "outputs": [
        {
          "output_type": "stream",
          "text": [
            "Olivia\n",
            "Kim\n"
          ],
          "name": "stdout"
        }
      ]
    },
    {
      "cell_type": "code",
      "metadata": {
        "colab": {
          "base_uri": "https://localhost:8080/"
        },
        "id": "lUdySjDHBrmv",
        "outputId": "a293fc3e-5937-4e8a-c9cb-fcfcfc39517c"
      },
      "source": [
        "interviewee = {'first_name': 'Olivia', 'last_name': 'Kim'}\n",
        "print(interviewee['first_name'])\n",
        "print(interviewee['last_name'])\n",
        "\n",
        "full_name = interviewee['first_name'] + ' ' + interviewee['last_name']\n",
        "print(\"Next up, \" + full_name + ', come in!')"
      ],
      "execution_count": null,
      "outputs": [
        {
          "output_type": "stream",
          "text": [
            "Olivia\n",
            "Kim\n",
            "Next up, Olivia Kim, come in!\n"
          ],
          "name": "stdout"
        }
      ]
    },
    {
      "cell_type": "code",
      "metadata": {
        "id": "qEmhL2ptmKJz",
        "colab": {
          "base_uri": "https://localhost:8080/"
        },
        "outputId": "1e5a025d-2f78-4c73-a1f7-93f43a6efc6d"
      },
      "source": [
        "friend = {'Friend_1': 'Amanda Rivera',\n",
        "          'Friend_2': 'Julia Lee'}\n",
        "print(friend)"
      ],
      "execution_count": null,
      "outputs": [
        {
          "output_type": "stream",
          "text": [
            "{'Friend_1': 'Amanda Rivera', 'Friend_2': 'Julia Lee'}\n"
          ],
          "name": "stdout"
        }
      ]
    },
    {
      "cell_type": "code",
      "metadata": {
        "id": "Apue4OmjsUWw",
        "colab": {
          "base_uri": "https://localhost:8080/"
        },
        "outputId": "4555a270-561f-48f0-cfd8-7293044ecd10"
      },
      "source": [
        "travel_plan = {1: {'Country': 'Japan', 'Season': 'Spring', 'Time_limit': '3 weeks'},\n",
        "               2: {'Country': 'South Korea', 'Season': 'Winter', 'Time_limit': '2 weeks'},\n",
        "               3: {'Country': 'Italy', 'Season': 'Summer', 'Time_limit': '1 week'}}\n",
        "\n",
        "for c, s in travel_plan.items():\n",
        "  print('\\nOrder of Visit: ', c)\n",
        "  \n",
        "  for key in s:\n",
        "    print(key + ':', s[key])"
      ],
      "execution_count": null,
      "outputs": [
        {
          "output_type": "stream",
          "text": [
            "\n",
            "Order of Visit:  1\n",
            "Country: Japan\n",
            "Season: Spring\n",
            "Time_limit: 3 weeks\n",
            "\n",
            "Order of Visit:  2\n",
            "Country: South Korea\n",
            "Season: Winter\n",
            "Time_limit: 2 weeks\n",
            "\n",
            "Order of Visit:  3\n",
            "Country: Italy\n",
            "Season: Summer\n",
            "Time_limit: 1 week\n"
          ],
          "name": "stdout"
        }
      ]
    }
  ]
}