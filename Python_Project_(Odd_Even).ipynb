{
  "nbformat": 4,
  "nbformat_minor": 0,
  "metadata": {
    "colab": {
      "name": "Python Project (Odd/Even)",
      "provenance": [],
      "authorship_tag": "ABX9TyPLTlv+QpsBKjAmR6fC7pzk",
      "include_colab_link": true
    },
    "kernelspec": {
      "name": "python3",
      "display_name": "Python 3"
    }
  },
  "cells": [
    {
      "cell_type": "markdown",
      "metadata": {
        "id": "view-in-github",
        "colab_type": "text"
      },
      "source": [
        "<a href=\"https://colab.research.google.com/github/devina-li/Unit_2_Python/blob/main/Python_Project_(Odd_Even).ipynb\" target=\"_parent\"><img src=\"https://colab.research.google.com/assets/colab-badge.svg\" alt=\"Open In Colab\"/></a>"
      ]
    },
    {
      "cell_type": "code",
      "metadata": {
        "colab": {
          "base_uri": "https://localhost:8080/"
        },
        "id": "D0cO2KvImUUq",
        "outputId": "12117e29-3269-4e26-c4e1-2ca246e747bc"
      },
      "source": [
        "num = int(input('Please input a number: '))\r\n",
        "\r\n",
        "if num % 2 == 0:\r\n",
        "  print('You have chosen an even number.')\r\n",
        "else:\r\n",
        "  print('You have chosen an odd number.')"
      ],
      "execution_count": 48,
      "outputs": [
        {
          "output_type": "stream",
          "text": [
            "Please input a number: 5\n",
            "You have chosen an odd number.\n"
          ],
          "name": "stdout"
        }
      ]
    },
    {
      "cell_type": "code",
      "metadata": {
        "colab": {
          "base_uri": "https://localhost:8080/"
        },
        "id": "Qq4eOP9TvbGq",
        "outputId": "841fae0b-4c53-4831-d940-7f6bb7b4e1d1"
      },
      "source": [
        "num = int(input(\"Please input a number to check: \"))\r\n",
        "check = int(input(\"Please input a number to divide by: \"))\r\n",
        "\r\n",
        "if num % 4 == 0:\r\n",
        "  print(num, \"is a multiple of 4.\")\r\n",
        "\r\n",
        "elif num % 2 == 0:\r\n",
        "  print('You have chosen an even number.')\r\n",
        "\r\n",
        "else:\r\n",
        "  print('You have chosen an odd number.')\r\n",
        "\r\n",
        "if num % check == 0:\r\n",
        "  print(num, 'can be divided evenly by', check)\r\n",
        "\r\n",
        "else:\r\n",
        "  print(num, 'is not divided evenly by', check)"
      ],
      "execution_count": 53,
      "outputs": [
        {
          "output_type": "stream",
          "text": [
            "Please input a number to check: 16\n",
            "Please input a number to divide by: 4\n",
            "16 is a multiple of 4.\n",
            "16 can be divided evenly by 4\n"
          ],
          "name": "stdout"
        }
      ]
    }
  ]
}